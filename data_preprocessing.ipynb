{
 "cells": [
  {
   "cell_type": "code",
   "execution_count": 3,
   "metadata": {},
   "outputs": [],
   "source": [
    "import pandas as pd"
   ]
  },
  {
   "cell_type": "markdown",
   "metadata": {},
   "source": [
    "## Collecting samples for person 1"
   ]
  },
  {
   "cell_type": "code",
   "execution_count": 2,
   "metadata": {},
   "outputs": [],
   "source": [
    "user_nm = \"shai\"\n",
    "\n",
    "blink_type = \"short_blink\"\n",
    "df = pd.read_excel(\"data/ear_vecs_per_user/\" + user_nm + \"/\" + user_nm + \"-\" + blink_type + \"-labelled.xlsx\")\n",
    "\n",
    "blink_type = \"long_blink\"\n",
    "df2 = pd.read_excel(\"data/ear_vecs_per_user/\" + user_nm + \"/\" + user_nm + \"-\" + blink_type + \"-labelled.xlsx\")\n",
    "\n",
    "df0 = df[df.EYE_STATE == 0]\n",
    "df1 = df[df.EYE_STATE == 1]\n",
    "\n",
    "df0 = df0.sample(n=len(df1), random_state=42)\n",
    "df2 = df2.sample(n=len(df1), random_state=42)\n",
    "\n",
    "df = pd.concat([df0, df1, df2], ignore_index=True)\n",
    "df = df.sample(frac=1, random_state=42)\n",
    "\n",
    "df.to_excel(\"data/ear_vecs_per_user/\" + user_nm + \"/\" + user_nm + \"-sample\" + \".xlsx\", index=False)"
   ]
  },
  {
   "cell_type": "markdown",
   "metadata": {},
   "source": [
    "## Collecting samples for person 3"
   ]
  },
  {
   "cell_type": "code",
   "execution_count": 18,
   "metadata": {},
   "outputs": [],
   "source": [
    "user_nm = \"person5\"\n",
    "\n",
    "blink_type = \"short_blink\"\n",
    "df = pd.read_excel(\"data/ear_vecs_per_user/\" + user_nm + \"/\" + user_nm + \"-\" + blink_type + \"-labelled.xlsx\")\n",
    "\n",
    "blink_type = \"long_blink\"\n",
    "df2 = pd.read_excel(\"data/ear_vecs_per_user/\" + user_nm + \"/\" + user_nm + \"-\" + blink_type + \"-labelled.xlsx\")\n",
    "\n",
    "df0 = df[df.EYE_STATE == 0]\n",
    "df1 = df[df.EYE_STATE == 1]\n",
    "\n",
    "df0 = df0.sample(n=len(df1), random_state=42)\n",
    "df2 = df2.sample(n=len(df1), random_state=42)\n",
    "\n",
    "df = pd.concat([df0, df1, df2], ignore_index=True)\n",
    "df = df.sample(frac=1, random_state=42)\n",
    "\n",
    "df.to_excel(\"data/ear_vecs_per_user/\" + user_nm + \"/\" + user_nm + \"-sample\" + \".xlsx\", index=False)"
   ]
  },
  {
   "cell_type": "code",
   "execution_count": 19,
   "metadata": {},
   "outputs": [
    {
     "data": {
      "text/plain": [
       "36"
      ]
     },
     "execution_count": 19,
     "metadata": {},
     "output_type": "execute_result"
    }
   ],
   "source": [
    "len(df)"
   ]
  },
  {
   "cell_type": "markdown",
   "metadata": {},
   "source": [
    "### Automated labelling of data"
   ]
  },
  {
   "cell_type": "code",
   "execution_count": null,
   "metadata": {},
   "outputs": [
    {
     "name": "stderr",
     "output_type": "stream",
     "text": [
      "/var/folders/_0/qrjsyj4n0r951n63lt8qdzrc0000gn/T/ipykernel_26197/33428597.py:12: SettingWithCopyWarning: \n",
      "A value is trying to be set on a copy of a slice from a DataFrame.\n",
      "Try using .loc[row_indexer,col_indexer] = value instead\n",
      "\n",
      "See the caveats in the documentation: https://pandas.pydata.org/pandas-docs/stable/user_guide/indexing.html#returning-a-view-versus-a-copy\n",
      "  short_blink_df[\"EYE_STATE\"] = 1\n",
      "/var/folders/_0/qrjsyj4n0r951n63lt8qdzrc0000gn/T/ipykernel_26197/33428597.py:13: SettingWithCopyWarning: \n",
      "A value is trying to be set on a copy of a slice from a DataFrame.\n",
      "Try using .loc[row_indexer,col_indexer] = value instead\n",
      "\n",
      "See the caveats in the documentation: https://pandas.pydata.org/pandas-docs/stable/user_guide/indexing.html#returning-a-view-versus-a-copy\n",
      "  open_eyes_df[\"EYE_STATE\"] = 0\n"
     ]
    }
   ],
   "source": [
    "import pandas as pd\n",
    "\n",
    "users_list = [ \"person11\", \"person12\", \"person14\", \"person15\", \"person16\", \"person17\", \"person18\", \"person19\", \"person20\", \"person21\", \"person23\"]\n",
    "users_list = [\"person6\"]\n",
    "\n",
    "for user_nm in users_list:\n",
    "    df = pd.read_excel(f\"data/ear_vecs_per_user/{user_nm}/{user_nm}-short_blink.xlsx\")\n",
    "\n",
    "    short_blink_df = df[(df[\"EAR6\"] < 0.25) | (df[\"EAR7\"] < 0.25) | (df[\"EAR8\"] < 0.25) | (df[\"EAR9\"] < 0.25) | (df[\"EAR10\"] < 0.25)]\n",
    "    open_eyes_df = df[(df[\"EAR6\"] > 0.25) & (df[\"EAR7\"] > 0.25) & (df[\"EAR8\"] > 0.25) & (df[\"EAR9\"] > 0.25) & (df[\"EAR10\"] > 0.25)]\n",
    "\n",
    "    short_blink_df[\"EYE_STATE\"] = 1\n",
    "    open_eyes_df[\"EYE_STATE\"] = 0\n",
    "\n",
    "    df2 = pd.read_excel(f\"data/ear_vecs_per_user/{user_nm}/{user_nm}-long_blink.xlsx\")\n",
    "    df2[\"EYE_STATE\"] = 2\n",
    "\n",
    "    df_full = pd.concat([short_blink_df, open_eyes_df, df2])\n",
    "\n",
    "    df_full.to_excel(f\"data/ear_vecs_per_user/{user_nm}/{user_nm}-labelled.xlsx\", index = False)\n",
    "\n"
   ]
  },
  {
   "cell_type": "markdown",
   "metadata": {},
   "source": [
    "### Converting the manually labelled data in the same format as automated labelled data"
   ]
  },
  {
   "cell_type": "code",
   "execution_count": null,
   "metadata": {},
   "outputs": [],
   "source": [
    "user_nm = \"person5\"\n",
    "df1 = pd.read_excel(f\"data/ear_vecs_per_user/{user_nm}/{user_nm}-short_blink-labelled.xlsx\")\n",
    "df2 = pd.read_excel(f\"data/ear_vecs_per_user/{user_nm}/{user_nm}-long_blink-labelled.xlsx\")\n",
    "df = pd.concat([df1, df2],ignore_index=True)\n",
    "df.to_excel(f\"data/ear_vecs_per_user/{user_nm}/{user_nm}-labelled.xlsx\", index = False)"
   ]
  },
  {
   "cell_type": "code",
   "execution_count": null,
   "metadata": {},
   "outputs": [
    {
     "data": {
      "text/html": [
       "<div>\n",
       "<style scoped>\n",
       "    .dataframe tbody tr th:only-of-type {\n",
       "        vertical-align: middle;\n",
       "    }\n",
       "\n",
       "    .dataframe tbody tr th {\n",
       "        vertical-align: top;\n",
       "    }\n",
       "\n",
       "    .dataframe thead th {\n",
       "        text-align: right;\n",
       "    }\n",
       "</style>\n",
       "<table border=\"1\" class=\"dataframe\">\n",
       "  <thead>\n",
       "    <tr style=\"text-align: right;\">\n",
       "      <th></th>\n",
       "      <th>EAR1</th>\n",
       "      <th>EAR2</th>\n",
       "      <th>EAR3</th>\n",
       "      <th>EAR4</th>\n",
       "      <th>EAR5</th>\n",
       "      <th>EAR6</th>\n",
       "      <th>EAR7</th>\n",
       "      <th>EAR8</th>\n",
       "      <th>EAR9</th>\n",
       "      <th>EAR10</th>\n",
       "      <th>EAR11</th>\n",
       "      <th>EAR12</th>\n",
       "      <th>EAR13</th>\n",
       "      <th>EAR14</th>\n",
       "      <th>EAR15</th>\n",
       "      <th>EYE_STATE</th>\n",
       "    </tr>\n",
       "  </thead>\n",
       "  <tbody>\n",
       "    <tr>\n",
       "      <th>0</th>\n",
       "      <td>0.297315</td>\n",
       "      <td>0.330906</td>\n",
       "      <td>0.339546</td>\n",
       "      <td>0.326580</td>\n",
       "      <td>0.330113</td>\n",
       "      <td>0.330036</td>\n",
       "      <td>0.315789</td>\n",
       "      <td>0.328947</td>\n",
       "      <td>0.316878</td>\n",
       "      <td>0.328947</td>\n",
       "      <td>0.330036</td>\n",
       "      <td>0.342975</td>\n",
       "      <td>0.343194</td>\n",
       "      <td>0.342784</td>\n",
       "      <td>0.317967</td>\n",
       "      <td>0</td>\n",
       "    </tr>\n",
       "    <tr>\n",
       "      <th>1</th>\n",
       "      <td>0.330036</td>\n",
       "      <td>0.315789</td>\n",
       "      <td>0.328947</td>\n",
       "      <td>0.316878</td>\n",
       "      <td>0.328947</td>\n",
       "      <td>0.330036</td>\n",
       "      <td>0.342975</td>\n",
       "      <td>0.343194</td>\n",
       "      <td>0.342784</td>\n",
       "      <td>0.317967</td>\n",
       "      <td>0.330904</td>\n",
       "      <td>0.345834</td>\n",
       "      <td>0.328729</td>\n",
       "      <td>0.342956</td>\n",
       "      <td>0.342784</td>\n",
       "      <td>0</td>\n",
       "    </tr>\n",
       "    <tr>\n",
       "      <th>2</th>\n",
       "      <td>0.330036</td>\n",
       "      <td>0.342975</td>\n",
       "      <td>0.343194</td>\n",
       "      <td>0.342784</td>\n",
       "      <td>0.317967</td>\n",
       "      <td>0.330904</td>\n",
       "      <td>0.345834</td>\n",
       "      <td>0.328729</td>\n",
       "      <td>0.342956</td>\n",
       "      <td>0.342784</td>\n",
       "      <td>0.330246</td>\n",
       "      <td>0.355009</td>\n",
       "      <td>0.337483</td>\n",
       "      <td>0.337483</td>\n",
       "      <td>0.231735</td>\n",
       "      <td>0</td>\n",
       "    </tr>\n",
       "    <tr>\n",
       "      <th>3</th>\n",
       "      <td>0.330904</td>\n",
       "      <td>0.345834</td>\n",
       "      <td>0.328729</td>\n",
       "      <td>0.342956</td>\n",
       "      <td>0.342784</td>\n",
       "      <td>0.330246</td>\n",
       "      <td>0.355009</td>\n",
       "      <td>0.337483</td>\n",
       "      <td>0.337483</td>\n",
       "      <td>0.231735</td>\n",
       "      <td>0.173670</td>\n",
       "      <td>0.176415</td>\n",
       "      <td>0.216229</td>\n",
       "      <td>0.256659</td>\n",
       "      <td>0.284122</td>\n",
       "      <td>0</td>\n",
       "    </tr>\n",
       "    <tr>\n",
       "      <th>4</th>\n",
       "      <td>0.330246</td>\n",
       "      <td>0.355009</td>\n",
       "      <td>0.337483</td>\n",
       "      <td>0.337483</td>\n",
       "      <td>0.231735</td>\n",
       "      <td>0.173670</td>\n",
       "      <td>0.176415</td>\n",
       "      <td>0.216229</td>\n",
       "      <td>0.256659</td>\n",
       "      <td>0.284122</td>\n",
       "      <td>0.316660</td>\n",
       "      <td>0.329645</td>\n",
       "      <td>0.308797</td>\n",
       "      <td>0.330906</td>\n",
       "      <td>0.307708</td>\n",
       "      <td>1</td>\n",
       "    </tr>\n",
       "    <tr>\n",
       "      <th>...</th>\n",
       "      <td>...</td>\n",
       "      <td>...</td>\n",
       "      <td>...</td>\n",
       "      <td>...</td>\n",
       "      <td>...</td>\n",
       "      <td>...</td>\n",
       "      <td>...</td>\n",
       "      <td>...</td>\n",
       "      <td>...</td>\n",
       "      <td>...</td>\n",
       "      <td>...</td>\n",
       "      <td>...</td>\n",
       "      <td>...</td>\n",
       "      <td>...</td>\n",
       "      <td>...</td>\n",
       "      <td>...</td>\n",
       "    </tr>\n",
       "    <tr>\n",
       "      <th>113</th>\n",
       "      <td>0.330563</td>\n",
       "      <td>0.320072</td>\n",
       "      <td>0.325603</td>\n",
       "      <td>0.313748</td>\n",
       "      <td>0.329163</td>\n",
       "      <td>0.329817</td>\n",
       "      <td>0.308741</td>\n",
       "      <td>0.308180</td>\n",
       "      <td>0.330668</td>\n",
       "      <td>0.321101</td>\n",
       "      <td>0.325174</td>\n",
       "      <td>0.315787</td>\n",
       "      <td>0.325431</td>\n",
       "      <td>0.352490</td>\n",
       "      <td>0.308180</td>\n",
       "      <td>0</td>\n",
       "    </tr>\n",
       "    <tr>\n",
       "      <th>114</th>\n",
       "      <td>0.329817</td>\n",
       "      <td>0.308741</td>\n",
       "      <td>0.308180</td>\n",
       "      <td>0.330668</td>\n",
       "      <td>0.321101</td>\n",
       "      <td>0.325174</td>\n",
       "      <td>0.315787</td>\n",
       "      <td>0.325431</td>\n",
       "      <td>0.352490</td>\n",
       "      <td>0.308180</td>\n",
       "      <td>0.351598</td>\n",
       "      <td>0.325860</td>\n",
       "      <td>0.325860</td>\n",
       "      <td>0.342881</td>\n",
       "      <td>0.317072</td>\n",
       "      <td>0</td>\n",
       "    </tr>\n",
       "    <tr>\n",
       "      <th>115</th>\n",
       "      <td>0.325174</td>\n",
       "      <td>0.315787</td>\n",
       "      <td>0.325431</td>\n",
       "      <td>0.352490</td>\n",
       "      <td>0.308180</td>\n",
       "      <td>0.351598</td>\n",
       "      <td>0.325860</td>\n",
       "      <td>0.325860</td>\n",
       "      <td>0.342881</td>\n",
       "      <td>0.317072</td>\n",
       "      <td>0.329091</td>\n",
       "      <td>0.324520</td>\n",
       "      <td>0.325926</td>\n",
       "      <td>0.310888</td>\n",
       "      <td>0.308180</td>\n",
       "      <td>0</td>\n",
       "    </tr>\n",
       "    <tr>\n",
       "      <th>116</th>\n",
       "      <td>0.351598</td>\n",
       "      <td>0.325860</td>\n",
       "      <td>0.325860</td>\n",
       "      <td>0.342881</td>\n",
       "      <td>0.317072</td>\n",
       "      <td>0.329091</td>\n",
       "      <td>0.324520</td>\n",
       "      <td>0.325926</td>\n",
       "      <td>0.310888</td>\n",
       "      <td>0.308180</td>\n",
       "      <td>0.328937</td>\n",
       "      <td>0.289974</td>\n",
       "      <td>0.304621</td>\n",
       "      <td>0.316005</td>\n",
       "      <td>0.308180</td>\n",
       "      <td>0</td>\n",
       "    </tr>\n",
       "    <tr>\n",
       "      <th>117</th>\n",
       "      <td>0.329091</td>\n",
       "      <td>0.324520</td>\n",
       "      <td>0.325926</td>\n",
       "      <td>0.310888</td>\n",
       "      <td>0.308180</td>\n",
       "      <td>0.328937</td>\n",
       "      <td>0.289974</td>\n",
       "      <td>0.304621</td>\n",
       "      <td>0.316005</td>\n",
       "      <td>0.308180</td>\n",
       "      <td>0.324777</td>\n",
       "      <td>0.302847</td>\n",
       "      <td>0.317072</td>\n",
       "      <td>0.300248</td>\n",
       "      <td>0.331001</td>\n",
       "      <td>0</td>\n",
       "    </tr>\n",
       "  </tbody>\n",
       "</table>\n",
       "<p>118 rows × 16 columns</p>\n",
       "</div>"
      ],
      "text/plain": [
       "         EAR1      EAR2      EAR3      EAR4      EAR5      EAR6      EAR7  \\\n",
       "0    0.297315  0.330906  0.339546  0.326580  0.330113  0.330036  0.315789   \n",
       "1    0.330036  0.315789  0.328947  0.316878  0.328947  0.330036  0.342975   \n",
       "2    0.330036  0.342975  0.343194  0.342784  0.317967  0.330904  0.345834   \n",
       "3    0.330904  0.345834  0.328729  0.342956  0.342784  0.330246  0.355009   \n",
       "4    0.330246  0.355009  0.337483  0.337483  0.231735  0.173670  0.176415   \n",
       "..        ...       ...       ...       ...       ...       ...       ...   \n",
       "113  0.330563  0.320072  0.325603  0.313748  0.329163  0.329817  0.308741   \n",
       "114  0.329817  0.308741  0.308180  0.330668  0.321101  0.325174  0.315787   \n",
       "115  0.325174  0.315787  0.325431  0.352490  0.308180  0.351598  0.325860   \n",
       "116  0.351598  0.325860  0.325860  0.342881  0.317072  0.329091  0.324520   \n",
       "117  0.329091  0.324520  0.325926  0.310888  0.308180  0.328937  0.289974   \n",
       "\n",
       "         EAR8      EAR9     EAR10     EAR11     EAR12     EAR13     EAR14  \\\n",
       "0    0.328947  0.316878  0.328947  0.330036  0.342975  0.343194  0.342784   \n",
       "1    0.343194  0.342784  0.317967  0.330904  0.345834  0.328729  0.342956   \n",
       "2    0.328729  0.342956  0.342784  0.330246  0.355009  0.337483  0.337483   \n",
       "3    0.337483  0.337483  0.231735  0.173670  0.176415  0.216229  0.256659   \n",
       "4    0.216229  0.256659  0.284122  0.316660  0.329645  0.308797  0.330906   \n",
       "..        ...       ...       ...       ...       ...       ...       ...   \n",
       "113  0.308180  0.330668  0.321101  0.325174  0.315787  0.325431  0.352490   \n",
       "114  0.325431  0.352490  0.308180  0.351598  0.325860  0.325860  0.342881   \n",
       "115  0.325860  0.342881  0.317072  0.329091  0.324520  0.325926  0.310888   \n",
       "116  0.325926  0.310888  0.308180  0.328937  0.289974  0.304621  0.316005   \n",
       "117  0.304621  0.316005  0.308180  0.324777  0.302847  0.317072  0.300248   \n",
       "\n",
       "        EAR15  EYE_STATE  \n",
       "0    0.317967          0  \n",
       "1    0.342784          0  \n",
       "2    0.231735          0  \n",
       "3    0.284122          0  \n",
       "4    0.307708          1  \n",
       "..        ...        ...  \n",
       "113  0.308180          0  \n",
       "114  0.317072          0  \n",
       "115  0.308180          0  \n",
       "116  0.308180          0  \n",
       "117  0.331001          0  \n",
       "\n",
       "[118 rows x 16 columns]"
      ]
     },
     "metadata": {},
     "output_type": "display_data"
    }
   ],
   "source": [
    "df1"
   ]
  },
  {
   "cell_type": "markdown",
   "metadata": {},
   "source": [
    "### Collecting samples from all users"
   ]
  },
  {
   "cell_type": "code",
   "execution_count": 17,
   "metadata": {},
   "outputs": [],
   "source": [
    "# List of all users in scope of the study\n",
    "users_list = [\"person1\", \"person5\", \"person6\", \"person10\", \"person11\", \"person12\", \"person14\", \"person15\", \"person16\", \"person17\", \"person18\", \"person20\", \"person21\", \"person23\"]\n",
    "\n",
    "train_users_list = [\"person1\", \"person6\", \"person11\", \"person12\", \"person15\", \"person17\", \"person18\", \"person20\", \"person21\", \"person23\"]\n",
    "test_users_list = [\"person5\", \"person10\", \"person14\", \"person16\"]"
   ]
  },
  {
   "cell_type": "code",
   "execution_count": 12,
   "metadata": {},
   "outputs": [],
   "source": [
    "import pandas as pd\n",
    "\n",
    "users_list = [\"person1\", \"person5\", \"person6\", \"person10\", \"person11\", \"person12\", \"person14\", \"person15\", \"person16\", \"person17\", \"person18\", \"person19\", \"person20\", \"person21\", \"person23\"]\n",
    "for user_nm in users_list:\n",
    "    df = pd.read_excel(f\"data/ear_vecs_per_user/{user_nm}/{user_nm}-labelled.xlsx\")\n",
    "\n",
    "    df0 = df[df.EYE_STATE == 0]\n",
    "    df1 = df[df.EYE_STATE == 1]\n",
    "    df2 = df[df.EYE_STATE == 2]\n",
    "\n",
    "    # undersample all types of rows to have equal distribution\n",
    "    df_size = min(len(df0), len(df1), len(df2))\n",
    "    df0 = df0.sample(n=df_size, random_state=42)\n",
    "    df1 = df1.sample(n=df_size, random_state=42)\n",
    "    df2 = df2.sample(n=df_size, random_state=42)\n",
    "\n",
    "    df = pd.concat([df0, df1, df2], ignore_index=True)\n",
    "    df = df.sample(frac=1, random_state=42)\n",
    "\n",
    "    df.to_excel(\"data/ear_vecs_per_user/\" + user_nm + \"/\" + user_nm + \"-sample\" + \".xlsx\", index=False)"
   ]
  },
  {
   "cell_type": "code",
   "execution_count": 11,
   "metadata": {},
   "outputs": [
    {
     "data": {
      "text/plain": [
       "62"
      ]
     },
     "execution_count": 11,
     "metadata": {},
     "output_type": "execute_result"
    }
   ],
   "source": [
    "min(len(df0), len(df1), len(df2))"
   ]
  },
  {
   "cell_type": "markdown",
   "metadata": {},
   "source": [
    "## Merging data of different users"
   ]
  },
  {
   "cell_type": "code",
   "execution_count": 13,
   "metadata": {},
   "outputs": [
    {
     "data": {
      "text/plain": [
       "Index(['EAR1', 'EAR2', 'EAR3', 'EAR4', 'EAR5', 'EAR6', 'EAR7', 'EAR8', 'EAR9',\n",
       "       'EAR10', 'EAR11', 'EAR12', 'EAR13', 'EAR14', 'EAR15', 'EYE_STATE'],\n",
       "      dtype='object')"
      ]
     },
     "execution_count": 13,
     "metadata": {},
     "output_type": "execute_result"
    }
   ],
   "source": [
    "df.columns"
   ]
  },
  {
   "cell_type": "code",
   "execution_count": 18,
   "metadata": {},
   "outputs": [
    {
     "name": "stdout",
     "output_type": "stream",
     "text": [
      "person1 : 63\n",
      "person6 : 42\n",
      "person11 : 144\n",
      "person12 : 126\n",
      "person15 : 153\n",
      "person17 : 111\n",
      "person18 : 111\n",
      "person20 : 165\n",
      "person21 : 153\n",
      "person23 : 186\n"
     ]
    },
    {
     "name": "stderr",
     "output_type": "stream",
     "text": [
      "/var/folders/_0/qrjsyj4n0r951n63lt8qdzrc0000gn/T/ipykernel_29814/1833221864.py:9: FutureWarning: The behavior of DataFrame concatenation with empty or all-NA entries is deprecated. In a future version, this will no longer exclude empty or all-NA columns when determining the result dtypes. To retain the old behavior, exclude the relevant entries before the concat operation.\n",
      "  df = pd.concat([df, df_user], ignore_index=True)\n"
     ]
    }
   ],
   "source": [
    "columns = ['EAR1', 'EAR2', 'EAR3', 'EAR4', 'EAR5', 'EAR6', 'EAR7', 'EAR8', 'EAR9',\n",
    "       'EAR10', 'EAR11', 'EAR12', 'EAR13', 'EAR14', 'EAR15', 'EYE_STATE']\n",
    "\n",
    "df = pd.DataFrame(columns=columns)\n",
    "\n",
    "for user_nm in train_users_list:\n",
    "       df_user = pd.read_excel(\"data/ear_vecs_per_user/\" + user_nm + \"/\" + user_nm + \"-sample\" + \".xlsx\")\n",
    "       print(f\"{user_nm} : {len(df_user)}\")\n",
    "       df = pd.concat([df, df_user], ignore_index=True)\n",
    "\n",
    "df.to_excel(\"data/train-sample-data.xlsx\", index=False)\n"
   ]
  },
  {
   "cell_type": "code",
   "execution_count": 19,
   "metadata": {},
   "outputs": [
    {
     "name": "stdout",
     "output_type": "stream",
     "text": [
      "person5 : 36\n",
      "person10 : 81\n",
      "person14 : 69\n",
      "person16 : 90\n"
     ]
    },
    {
     "name": "stderr",
     "output_type": "stream",
     "text": [
      "/var/folders/_0/qrjsyj4n0r951n63lt8qdzrc0000gn/T/ipykernel_29814/2648026426.py:9: FutureWarning: The behavior of DataFrame concatenation with empty or all-NA entries is deprecated. In a future version, this will no longer exclude empty or all-NA columns when determining the result dtypes. To retain the old behavior, exclude the relevant entries before the concat operation.\n",
      "  df = pd.concat([df, df_user], ignore_index=True)\n"
     ]
    }
   ],
   "source": [
    "columns = ['EAR1', 'EAR2', 'EAR3', 'EAR4', 'EAR5', 'EAR6', 'EAR7', 'EAR8', 'EAR9',\n",
    "       'EAR10', 'EAR11', 'EAR12', 'EAR13', 'EAR14', 'EAR15', 'EYE_STATE']\n",
    "\n",
    "df = pd.DataFrame(columns=columns)\n",
    "\n",
    "for user_nm in test_users_list:\n",
    "       df_user = pd.read_excel(\"data/ear_vecs_per_user/\" + user_nm + \"/\" + user_nm + \"-sample\" + \".xlsx\")\n",
    "       print(f\"{user_nm} : {len(df_user)}\")\n",
    "       df = pd.concat([df, df_user], ignore_index=True)\n",
    "\n",
    "df.to_excel(\"data/test-sample-data.xlsx\", index=False)"
   ]
  },
  {
   "cell_type": "code",
   "execution_count": null,
   "metadata": {},
   "outputs": [],
   "source": []
  }
 ],
 "metadata": {
  "kernelspec": {
   "display_name": "venv",
   "language": "python",
   "name": "python3"
  },
  "language_info": {
   "codemirror_mode": {
    "name": "ipython",
    "version": 3
   },
   "file_extension": ".py",
   "mimetype": "text/x-python",
   "name": "python",
   "nbconvert_exporter": "python",
   "pygments_lexer": "ipython3",
   "version": "3.9.6"
  }
 },
 "nbformat": 4,
 "nbformat_minor": 2
}
