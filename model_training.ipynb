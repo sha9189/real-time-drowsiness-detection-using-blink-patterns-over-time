{
 "cells": [
  {
   "cell_type": "code",
   "execution_count": 13,
   "metadata": {},
   "outputs": [],
   "source": [
    "import numpy as np\n",
    "import pandas as pd\n",
    "from sklearn.model_selection import train_test_split, GridSearchCV\n",
    "from sklearn.preprocessing import StandardScaler\n",
    "from sklearn.svm import SVC\n",
    "from sklearn.metrics import accuracy_score, classification_report, confusion_matrix\n",
    "import joblib"
   ]
  },
  {
   "cell_type": "code",
   "execution_count": 14,
   "metadata": {},
   "outputs": [
    {
     "data": {
      "text/plain": [
       "((1254, 16), (276, 16))"
      ]
     },
     "execution_count": 14,
     "metadata": {},
     "output_type": "execute_result"
    }
   ],
   "source": [
    "train_df = pd.read_excel(\"data/train-sample-data.xlsx\", )\n",
    "unseen_df = pd.read_excel(\"data/test-sample-data.xlsx\")\n",
    "train_df.shape, unseen_df.shape"
   ]
  },
  {
   "cell_type": "code",
   "execution_count": 15,
   "metadata": {},
   "outputs": [],
   "source": [
    "input_columns = []\n",
    "ear_v_len = 15\n",
    "\n",
    "for i in range(ear_v_len):\n",
    "    column_name = \"EAR\" + str(i + 1)\n",
    "    input_columns.append(column_name)\n",
    "\n",
    "\n",
    "X = train_df[input_columns]\n",
    "y = train_df.EYE_STATE\n"
   ]
  },
  {
   "cell_type": "code",
   "execution_count": 16,
   "metadata": {},
   "outputs": [
    {
     "data": {
      "text/plain": [
       "(255.20000000000002, 1020.8000000000001)"
      ]
     },
     "execution_count": 16,
     "metadata": {},
     "output_type": "execute_result"
    }
   ],
   "source": [
    "1276 * 0.2, 1276 * 0.8"
   ]
  },
  {
   "cell_type": "code",
   "execution_count": 17,
   "metadata": {},
   "outputs": [
    {
     "name": "stdout",
     "output_type": "stream",
     "text": [
      "Accuracy: 0.9123505976095617\n",
      "Confusion Matrix:\n",
      "[[80  5  0]\n",
      " [10 67  1]\n",
      " [ 0  6 82]]\n",
      "Classification Report:\n",
      "              precision    recall  f1-score   support\n",
      "\n",
      "           0       0.89      0.94      0.91        85\n",
      "           1       0.86      0.86      0.86        78\n",
      "           2       0.99      0.93      0.96        88\n",
      "\n",
      "    accuracy                           0.91       251\n",
      "   macro avg       0.91      0.91      0.91       251\n",
      "weighted avg       0.91      0.91      0.91       251\n",
      "\n"
     ]
    }
   ],
   "source": [
    "# Split the dataset into training and testing sets\n",
    "X_train, X_test, y_train, y_test = train_test_split(X, y, test_size=0.2, random_state=42)\n",
    "\n",
    "# Standardize features by removing the mean and scaling to unit variance\n",
    "scaler = StandardScaler()\n",
    "X_train_scaled = scaler.fit_transform(X_train)\n",
    "X_test_scaled = scaler.transform(X_test)\n",
    "\n",
    "# Model 1\n",
    "# Initialize the SVM classifier\n",
    "svm_classifier = SVC(kernel='linear', C=1.0)\n",
    "\n",
    "# Train the SVM classifier on the training set\n",
    "svm_classifier.fit(X_train_scaled, y_train)\n",
    "\n",
    "# Make predictions on the testing set\n",
    "y_pred = svm_classifier.predict(X_test_scaled)\n",
    "\n",
    "# Evaluate the model\n",
    "accuracy = accuracy_score(y_test, y_pred)\n",
    "conf_matrix = confusion_matrix(y_test, y_pred)\n",
    "classification_rep = classification_report(y_test, y_pred)\n",
    "\n",
    "print(f\"Accuracy: {accuracy}\")\n",
    "print(f\"Confusion Matrix:\\n{conf_matrix}\")\n",
    "print(f\"Classification Report:\\n{classification_rep}\")"
   ]
  },
  {
   "cell_type": "code",
   "execution_count": 18,
   "metadata": {},
   "outputs": [
    {
     "name": "stdout",
     "output_type": "stream",
     "text": [
      "Accuracy: 0.9239130434782609\n",
      "Confusion Matrix:\n",
      "[[87  5  0]\n",
      " [13 79  0]\n",
      " [ 0  3 89]]\n",
      "Classification Report:\n",
      "              precision    recall  f1-score   support\n",
      "\n",
      "           0       0.87      0.95      0.91        92\n",
      "           1       0.91      0.86      0.88        92\n",
      "           2       1.00      0.97      0.98        92\n",
      "\n",
      "    accuracy                           0.92       276\n",
      "   macro avg       0.93      0.92      0.92       276\n",
      "weighted avg       0.93      0.92      0.92       276\n",
      "\n"
     ]
    }
   ],
   "source": [
    "# Performance of unseen data\n",
    "X_unseen = unseen_df[input_columns]\n",
    "y_unseen = unseen_df.EYE_STATE\n",
    "\n",
    "X_unseen_scaled = scaler.transform(X_unseen)\n",
    "\n",
    "# Make predictions on the testing set\n",
    "y_unseen_pred = svm_classifier.predict(X_unseen_scaled)\n",
    "\n",
    "# Evaluate the model\n",
    "accuracy = accuracy_score(y_unseen, y_unseen_pred)\n",
    "conf_matrix = confusion_matrix(y_unseen, y_unseen_pred)\n",
    "classification_rep = classification_report(y_unseen, y_unseen_pred)\n",
    "\n",
    "print(f\"Accuracy: {accuracy}\")\n",
    "print(f\"Confusion Matrix:\\n{conf_matrix}\")\n",
    "print(f\"Classification Report:\\n{classification_rep}\")\n"
   ]
  },
  {
   "cell_type": "code",
   "execution_count": 16,
   "metadata": {},
   "outputs": [
    {
     "data": {
      "text/plain": [
       "['models/svm_model_1.joblib']"
      ]
     },
     "execution_count": 16,
     "metadata": {},
     "output_type": "execute_result"
    }
   ],
   "source": [
    "model_filename = 'models/svm_model_1.joblib'\n",
    "joblib.dump(svm_classifier, model_filename)"
   ]
  },
  {
   "cell_type": "code",
   "execution_count": 17,
   "metadata": {},
   "outputs": [
    {
     "data": {
      "text/plain": [
       "['models/feature_scaler_1.joblib']"
      ]
     },
     "execution_count": 17,
     "metadata": {},
     "output_type": "execute_result"
    }
   ],
   "source": [
    "scaler_filename = 'models/feature_scaler_1.joblib'\n",
    "joblib.dump(scaler, scaler_filename)"
   ]
  },
  {
   "cell_type": "code",
   "execution_count": 19,
   "metadata": {},
   "outputs": [
    {
     "name": "stdout",
     "output_type": "stream",
     "text": [
      "***** Test set results ******\n",
      "Accuracy: 0.9243027888446215\n",
      "Confusion Matrix:\n",
      "[[81  4  0]\n",
      " [ 8 69  1]\n",
      " [ 0  6 82]]\n",
      "Classification Report:\n",
      "              precision    recall  f1-score   support\n",
      "\n",
      "           0       0.91      0.95      0.93        85\n",
      "           1       0.87      0.88      0.88        78\n",
      "           2       0.99      0.93      0.96        88\n",
      "\n",
      "    accuracy                           0.92       251\n",
      "   macro avg       0.92      0.92      0.92       251\n",
      "weighted avg       0.93      0.92      0.92       251\n",
      "\n",
      "***** Unseen data set results ******\n",
      "Accuracy: 0.9528985507246377\n",
      "Confusion Matrix:\n",
      "[[85  7  0]\n",
      " [ 5 87  0]\n",
      " [ 0  1 91]]\n",
      "Classification Report:\n",
      "              precision    recall  f1-score   support\n",
      "\n",
      "           0       0.94      0.92      0.93        92\n",
      "           1       0.92      0.95      0.93        92\n",
      "           2       1.00      0.99      0.99        92\n",
      "\n",
      "    accuracy                           0.95       276\n",
      "   macro avg       0.95      0.95      0.95       276\n",
      "weighted avg       0.95      0.95      0.95       276\n",
      "\n"
     ]
    }
   ],
   "source": [
    "# Model 2\n",
    "# Initialize the SVM classifier\n",
    "svm_classifier = SVC(kernel='rbf')\n",
    "\n",
    "# Train the SVM classifier on the training set\n",
    "svm_classifier.fit(X_train_scaled, y_train)\n",
    "\n",
    "# Make predictions on the testing set\n",
    "y_pred = svm_classifier.predict(X_test_scaled)\n",
    "\n",
    "# Evaluate the model\n",
    "accuracy = accuracy_score(y_test, y_pred)\n",
    "conf_matrix = confusion_matrix(y_test, y_pred)\n",
    "classification_rep = classification_report(y_test, y_pred)\n",
    "\n",
    "print(\"***** Test set results ******\")\n",
    "print(f\"Accuracy: {accuracy}\")\n",
    "print(f\"Confusion Matrix:\\n{conf_matrix}\")\n",
    "print(f\"Classification Report:\\n{classification_rep}\")\n",
    "\n",
    "# Make predictions on the unseen data set\n",
    "y_unseen_pred = svm_classifier.predict(X_unseen_scaled)\n",
    "\n",
    "# Evaluate the model\n",
    "accuracy = accuracy_score(y_unseen, y_unseen_pred)\n",
    "conf_matrix = confusion_matrix(y_unseen, y_unseen_pred)\n",
    "classification_rep = classification_report(y_unseen, y_unseen_pred)\n",
    "\n",
    "print(\"***** Unseen data set results ******\")\n",
    "print(f\"Accuracy: {accuracy}\")\n",
    "print(f\"Confusion Matrix:\\n{conf_matrix}\")\n",
    "print(f\"Classification Report:\\n{classification_rep}\")"
   ]
  },
  {
   "cell_type": "code",
   "execution_count": 21,
   "metadata": {},
   "outputs": [
    {
     "data": {
      "text/plain": [
       "['models/svm_model_2.joblib']"
      ]
     },
     "execution_count": 21,
     "metadata": {},
     "output_type": "execute_result"
    }
   ],
   "source": [
    "model_filename = 'models/svm_model_2.joblib'\n",
    "joblib.dump(svm_classifier, model_filename)"
   ]
  },
  {
   "cell_type": "markdown",
   "metadata": {},
   "source": [
    "### Hyperparameter Tuning"
   ]
  },
  {
   "cell_type": "code",
   "execution_count": 20,
   "metadata": {},
   "outputs": [
    {
     "name": "stdout",
     "output_type": "stream",
     "text": [
      "Best Hyperparameters: {'C': 100, 'gamma': 0.1, 'kernel': 'rbf'}\n",
      "Accuracy: 0.9402390438247012\n"
     ]
    }
   ],
   "source": [
    "# Model 3\n",
    "\n",
    "# Define the SVM model\n",
    "svm_model = SVC(random_state=42)\n",
    "\n",
    "# Define the hyperparameters and their possible values for tuning\n",
    "param_grid = {\n",
    "    'C': [0.1, 1, 10, 100],\n",
    "    'kernel': ['linear', 'rbf', 'poly'],\n",
    "    'gamma': ['scale', 'auto', 0.1, 1],\n",
    "}\n",
    "\n",
    "# Create a GridSearchCV object\n",
    "grid_search = GridSearchCV(svm_model, param_grid, cv=5, scoring='accuracy')\n",
    "\n",
    "# Fit the model to the training data\n",
    "grid_search.fit(X_train_scaled, y_train)\n",
    "\n",
    "# Print the best hyperparameters found by GridSearchCV\n",
    "print(\"Best Hyperparameters:\", grid_search.best_params_)\n",
    "\n",
    "# Get the best model\n",
    "best_model = grid_search.best_estimator_\n",
    "\n",
    "# Make predictions on the test set\n",
    "y_pred = best_model.predict(X_test_scaled)\n",
    "\n",
    "# Evaluate the accuracy of the model\n",
    "accuracy = accuracy_score(y_test, y_pred)\n",
    "print(\"Accuracy:\", accuracy)"
   ]
  },
  {
   "cell_type": "code",
   "execution_count": 21,
   "metadata": {},
   "outputs": [
    {
     "name": "stdout",
     "output_type": "stream",
     "text": [
      "***** Test set results ******\n",
      "Accuracy: 0.9402390438247012\n",
      "Confusion Matrix:\n",
      "[[80  5  0]\n",
      " [ 4 73  1]\n",
      " [ 0  5 83]]\n",
      "Classification Report:\n",
      "              precision    recall  f1-score   support\n",
      "\n",
      "           0       0.95      0.94      0.95        85\n",
      "           1       0.88      0.94      0.91        78\n",
      "           2       0.99      0.94      0.97        88\n",
      "\n",
      "    accuracy                           0.94       251\n",
      "   macro avg       0.94      0.94      0.94       251\n",
      "weighted avg       0.94      0.94      0.94       251\n",
      "\n",
      "***** Unseen data set results ******\n",
      "Accuracy: 0.9456521739130435\n",
      "Confusion Matrix:\n",
      "[[85  7  0]\n",
      " [ 5 86  1]\n",
      " [ 0  2 90]]\n",
      "Classification Report:\n",
      "              precision    recall  f1-score   support\n",
      "\n",
      "           0       0.94      0.92      0.93        92\n",
      "           1       0.91      0.93      0.92        92\n",
      "           2       0.99      0.98      0.98        92\n",
      "\n",
      "    accuracy                           0.95       276\n",
      "   macro avg       0.95      0.95      0.95       276\n",
      "weighted avg       0.95      0.95      0.95       276\n",
      "\n"
     ]
    }
   ],
   "source": [
    "\n",
    "\n",
    "# Make predictions on the testing set\n",
    "y_pred = best_model.predict(X_test_scaled)\n",
    "\n",
    "# Evaluate the model\n",
    "accuracy = accuracy_score(y_test, y_pred)\n",
    "conf_matrix = confusion_matrix(y_test, y_pred)\n",
    "classification_rep = classification_report(y_test, y_pred)\n",
    "\n",
    "print(\"***** Test set results ******\")\n",
    "print(f\"Accuracy: {accuracy}\")\n",
    "print(f\"Confusion Matrix:\\n{conf_matrix}\")\n",
    "print(f\"Classification Report:\\n{classification_rep}\")\n",
    "\n",
    "# Make predictions on the unseen data set\n",
    "y_unseen_pred = best_model.predict(X_unseen_scaled)\n",
    "\n",
    "# Evaluate the model\n",
    "accuracy = accuracy_score(y_unseen, y_unseen_pred)\n",
    "conf_matrix = confusion_matrix(y_unseen, y_unseen_pred)\n",
    "classification_rep = classification_report(y_unseen, y_unseen_pred)\n",
    "\n",
    "print(\"***** Unseen data set results ******\")\n",
    "print(f\"Accuracy: {accuracy}\")\n",
    "print(f\"Confusion Matrix:\\n{conf_matrix}\")\n",
    "print(f\"Classification Report:\\n{classification_rep}\")"
   ]
  },
  {
   "cell_type": "code",
   "execution_count": null,
   "metadata": {},
   "outputs": [],
   "source": []
  }
 ],
 "metadata": {
  "kernelspec": {
   "display_name": "venv",
   "language": "python",
   "name": "python3"
  },
  "language_info": {
   "codemirror_mode": {
    "name": "ipython",
    "version": 3
   },
   "file_extension": ".py",
   "mimetype": "text/x-python",
   "name": "python",
   "nbconvert_exporter": "python",
   "pygments_lexer": "ipython3",
   "version": "3.9.6"
  }
 },
 "nbformat": 4,
 "nbformat_minor": 2
}
